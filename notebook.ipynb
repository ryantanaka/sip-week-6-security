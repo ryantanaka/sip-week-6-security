{
 "cells": [
  {
   "cell_type": "markdown",
   "id": "719d38e0",
   "metadata": {},
   "source": [
    "# Week 6: Encryption, Validation, Compression\n",
    "\n",
    "## Contents\n",
    "1. [Introduction](#Introduction)\n",
    "2. [Encryption](#Encryption)\n",
    "3. [Data Validation](#Data-Validation)\n",
    "4. [Compression](#Compression)"
   ]
  },
  {
   "cell_type": "markdown",
   "id": "423e33df",
   "metadata": {},
   "source": [
    "## Introduction\n",
    "- data represented as binary\n",
    "- files\n",
    "- encoding for text files: ascii and utf-8\n",
    "- show ascii text file\n",
    "- show binary of ascii text file\n",
    "- show size of text file\n",
    "- how utf-8 file\n",
    "- show size of utf-8 file\n",
    "- show ls command"
   ]
  },
  {
   "cell_type": "markdown",
   "id": "13edd5c2",
   "metadata": {},
   "source": [
    "## Encryption\n",
    "- introduce encryption (why use encryption? how strong is encryption)\n",
    "- tools: gpg and zip\n",
    "- encrypt files using private key\n",
    "- aside: ransomware"
   ]
  },
  {
   "cell_type": "markdown",
   "id": "194e6b96",
   "metadata": {},
   "source": [
    "## Data Validation"
   ]
  },
  {
   "cell_type": "markdown",
   "id": "2876357f",
   "metadata": {},
   "source": [
    "## Compression\n",
    "- introduction (space-time complexity trade off, lossy vs lossless)\n",
    "- raw vs jpeg\n",
    "- gzip (what is it, how to use, examples)\n",
    "- compression activity (maybe download files from pegasus server (large files, 1 compressed and 1 not compressed, include time taken to decompress)"
   ]
  },
  {
   "cell_type": "code",
   "execution_count": null,
   "id": "e7165eb8",
   "metadata": {},
   "outputs": [],
   "source": []
  }
 ],
 "metadata": {
  "kernelspec": {
   "display_name": "Python 3 (ipykernel)",
   "language": "python",
   "name": "python3"
  },
  "language_info": {
   "codemirror_mode": {
    "name": "ipython",
    "version": 3
   },
   "file_extension": ".py",
   "mimetype": "text/x-python",
   "name": "python",
   "nbconvert_exporter": "python",
   "pygments_lexer": "ipython3",
   "version": "3.9.7"
  }
 },
 "nbformat": 4,
 "nbformat_minor": 5
}
